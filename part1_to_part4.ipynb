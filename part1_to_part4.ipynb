{
 "cells": [
  {
   "cell_type": "code",
   "execution_count": 2,
   "metadata": {},
   "outputs": [],
   "source": [
    "import os\n",
    "api_key = os.environ[\"LANGCHAIN_API\"] "
   ]
  },
  {
   "cell_type": "code",
   "execution_count": 3,
   "metadata": {},
   "outputs": [],
   "source": [
    "gemini_api = os.environ[\"GEMINI_API\"]"
   ]
  },
  {
   "cell_type": "markdown",
   "metadata": {},
   "source": [
    "Part 1 - OVERVIEW"
   ]
  },
  {
   "cell_type": "code",
   "execution_count": 4,
   "metadata": {},
   "outputs": [
    {
     "name": "stderr",
     "output_type": "stream",
     "text": [
      "USER_AGENT environment variable not set, consider setting it to identify your requests.\n"
     ]
    }
   ],
   "source": [
    "import bs4\n",
    "import getpass\n",
    "from langchain_community.document_loaders import WebBaseLoader\n",
    "from langchain_text_splitters import RecursiveCharacterTextSplitter\n",
    "from langchain_core.output_parsers import StrOutputParser\n",
    "from langchain_core.runnables import RunnablePassthrough\n",
    "from langchain_google_genai import GoogleGenerativeAIEmbeddings, GoogleGenerativeAI\n",
    "from langchain_chroma import Chroma"
   ]
  },
  {
   "cell_type": "code",
   "execution_count": 5,
   "metadata": {},
   "outputs": [
    {
     "name": "stdout",
     "output_type": "stream",
     "text": [
      "Loading document from URL: https://education.github.com/git-cheat-sheet-education.pdf...\n"
     ]
    },
    {
     "name": "stderr",
     "output_type": "stream",
     "text": [
      "Ignoring wrong pointing object 11 0 (offset 0)\n"
     ]
    },
    {
     "name": "stdout",
     "output_type": "stream",
     "text": [
      "succesfully loaded\n"
     ]
    }
   ],
   "source": [
    "#documents \n",
    "\n",
    "pdf_url = \"https://education.github.com/git-cheat-sheet-education.pdf\" \n",
    "print(f\"Loading document from URL: {pdf_url}...\")\n",
    "\n",
    "from langchain_community.document_loaders import PyPDFLoader\n",
    "loader = PyPDFLoader(file_path= pdf_url)\n",
    "docs = loader.load()\n",
    "print(\"succesfully loaded\")"
   ]
  },
  {
   "cell_type": "code",
   "execution_count": 6,
   "metadata": {},
   "outputs": [],
   "source": [
    "text_splitter = RecursiveCharacterTextSplitter(chunk_size = 1000, chunk_overlap = 200)"
   ]
  },
  {
   "cell_type": "code",
   "execution_count": 7,
   "metadata": {},
   "outputs": [],
   "source": [
    "splits = text_splitter.split_documents(docs)"
   ]
  },
  {
   "cell_type": "code",
   "execution_count": 8,
   "metadata": {},
   "outputs": [
    {
     "name": "stdout",
     "output_type": "stream",
     "text": [
      "[Document(metadata={'producer': 'Mac OS X 10.9.1 Quartz PDFContext', 'creator': 'Adobe Illustrator CC (Macintosh)', 'creationdate': \"D:20140224195805Z00'00'\", 'title': 'git-cheat-sheet-education', 'moddate': \"D:20140224195805Z00'00'\", 'source': 'https://education.github.com/git-cheat-sheet-education.pdf', 'total_pages': 2, 'page': 0, 'page_label': '1'}, page_content='GIT CHEAT SHEET\\nSTAGE & SNAPSHOT\\nWorking with snapshots and the Git staging area\\ngit status\\nshow modiﬁed ﬁles in working directory, staged for your next commit\\ngit add [file]\\nadd a ﬁle as it looks now to your next commit (stage)\\ngit reset [file]\\nunstage a ﬁle while retaining the changes in working directory\\ngit diff\\ndiﬀ of what is changed but not staged\\ngit diff --staged\\ndiﬀ of what is staged but not yet committed\\ngit commit -m “[descriptive message]”\\ncommit your staged content as a new commit snapshot\\nSETUP\\nConﬁguring user information used across all local repositories\\ngit config --global user.name “[firstname lastname]”\\nset a name that is identiﬁable for credit when review version history\\ngit config --global user.email “[valid-email]”\\nset an email address that will be associated with each history marker\\ngit config --global color.ui auto\\nset automatic command line coloring for Git for easy reviewing\\nSETUP & INIT\\nConﬁguring user information, initializing and cloning repositories'), Document(metadata={'producer': 'Mac OS X 10.9.1 Quartz PDFContext', 'creator': 'Adobe Illustrator CC (Macintosh)', 'creationdate': \"D:20140224195805Z00'00'\", 'title': 'git-cheat-sheet-education', 'moddate': \"D:20140224195805Z00'00'\", 'source': 'https://education.github.com/git-cheat-sheet-education.pdf', 'total_pages': 2, 'page': 0, 'page_label': '1'}, page_content=\"git config --global color.ui auto\\nset automatic command line coloring for Git for easy reviewing\\nSETUP & INIT\\nConﬁguring user information, initializing and cloning repositories\\ngit init\\ninitialize an existing directory as a Git repository\\ngit clone [url]\\nretrieve an entire repository from a hosted location via URL\\nBRANCH & MERGE\\nIsolating work in branches, changing context, and integrating changes\\ngit branch\\nlist your branches. a * will appear next to the currently active branch\\ngit branch [branch-name]\\ncreate a new branch at the current commit\\ngit checkout\\nswitch to another branch and check it out into your working directory\\ngit merge [branch]\\nmerge the speciﬁed branch’s history into the current one\\ngit log\\nshow all commits in the current branch’s history\\nGit is the free and open source distributed version control system that's responsible for everything GitHub \\nrelated that happens locally on your computer. This cheat sheet features the most important and commonly\"), Document(metadata={'producer': 'Mac OS X 10.9.1 Quartz PDFContext', 'creator': 'Adobe Illustrator CC (Macintosh)', 'creationdate': \"D:20140224195805Z00'00'\", 'title': 'git-cheat-sheet-education', 'moddate': \"D:20140224195805Z00'00'\", 'source': 'https://education.github.com/git-cheat-sheet-education.pdf', 'total_pages': 2, 'page': 0, 'page_label': '1'}, page_content='related that happens locally on your computer. This cheat sheet features the most important and commonly \\nused Git commands for easy reference.\\nINSTALLATION & GUIS\\nWith platform speciﬁc installers for Git, GitHub also provides the \\nease of staying up-to-date with the latest releases of the command \\nline tool while providing a graphical user interface for day-to-day \\ninteraction, review, and repository synchronization.\\nGitHub for Windows\\nhttps://windows.github.com\\nGitHub for Mac\\nhttps://mac.github.com\\nFor Linux and Solaris platforms, the latest release is available on \\nthe oﬃcial Git web site.\\nGit for All Platforms\\nhttp://git-scm.com'), Document(metadata={'producer': 'Mac OS X 10.9.1 Quartz PDFContext', 'creator': 'Adobe Illustrator CC (Macintosh)', 'creationdate': \"D:20140224195805Z00'00'\", 'title': 'git-cheat-sheet-education', 'moddate': \"D:20140224195805Z00'00'\", 'source': 'https://education.github.com/git-cheat-sheet-education.pdf', 'total_pages': 2, 'page': 1, 'page_label': '2'}, page_content='education@github.com \\neducation.github.com\\nEducation\\nTeach and learn better, together. GitHub is free for students and teach-\\ners. Discounts available for other educational uses.\\nTeach and learn better, together. GitHub is free for students and teach-\\ners. Discounts available for other educational uses.\\nSHARE & UPDATE\\nRetrieving updates from another repository and updating local repos\\ngit remote add [alias] [url]\\nadd a git URL as an alias\\ngit fetch [alias]\\nfetch down all the branches from that Git remote\\ngit merge [alias]/[branch]\\nmerge a remote branch into your current branch to bring it up to date\\ngit push [alias] [branch]\\nTransmit local branch commits to the remote repository branch\\ngit pull\\nfetch and merge any commits from the tracking remote branch\\nTRACKING PATH CHANGES\\nVersioning ﬁle removes and path changes\\ngit rm [file]\\ndelete the ﬁle from project and stage the removal for commit\\ngit mv [existing-path] [new-path]\\nchange an existing ﬁle path and stage the move\\ngit log --stat -M'), Document(metadata={'producer': 'Mac OS X 10.9.1 Quartz PDFContext', 'creator': 'Adobe Illustrator CC (Macintosh)', 'creationdate': \"D:20140224195805Z00'00'\", 'title': 'git-cheat-sheet-education', 'moddate': \"D:20140224195805Z00'00'\", 'source': 'https://education.github.com/git-cheat-sheet-education.pdf', 'total_pages': 2, 'page': 1, 'page_label': '2'}, page_content='git rm [file]\\ndelete the ﬁle from project and stage the removal for commit\\ngit mv [existing-path] [new-path]\\nchange an existing ﬁle path and stage the move\\ngit log --stat -M\\nshow all commit logs with indication of any paths that moved TEMPORARY COMMITS\\nTemporarily store modiﬁed, tracked ﬁles  in order to change branches\\ngit stash\\nSave modiﬁed and staged changes\\ngit stash list\\nlist stack-order of stashed ﬁle changes\\ngit stash pop\\nwrite working from top of stash stack\\ngit stash drop\\ndiscard  the changes from top of stash stack\\nREWRITE HISTORY\\nRewriting branches, updating commits and clearing history\\ngit rebase [branch]\\napply any commits of current branch ahead of speciﬁed one\\ngit reset --hard [commit]\\nclear staging area, rewrite working tree from speciﬁed commit\\nINSPECT & COMPARE\\nExamining logs, diﬀs and object information\\ngit log\\nshow the commit history for the currently active branch\\ngit log branchB..branchA\\nshow the commits on branchA that are not on branchB\\ngit log --follow [file]'), Document(metadata={'producer': 'Mac OS X 10.9.1 Quartz PDFContext', 'creator': 'Adobe Illustrator CC (Macintosh)', 'creationdate': \"D:20140224195805Z00'00'\", 'title': 'git-cheat-sheet-education', 'moddate': \"D:20140224195805Z00'00'\", 'source': 'https://education.github.com/git-cheat-sheet-education.pdf', 'total_pages': 2, 'page': 1, 'page_label': '2'}, page_content='git log\\nshow the commit history for the currently active branch\\ngit log branchB..branchA\\nshow the commits on branchA that are not on branchB\\ngit log --follow [file]\\nshow the commits that changed ﬁle, even across renames\\ngit diff branchB...branchA\\nshow the diﬀ of what is in branchA that is not in branchB\\ngit show [SHA]\\nshow any object in Git in human-readable format\\nIGNORING PATTERNS\\nPreventing unintentional staging or commiting of ﬁles\\ngit config --global core.excludesfile [file]\\nsystem wide ignore pattern for all local repositories\\nlogs/\\n*.notes\\npattern*/\\nSave a ﬁle with desired patterns as .gitignore with either direct string \\nmatches or wildcard globs.')]\n"
     ]
    }
   ],
   "source": [
    "print(splits)"
   ]
  },
  {
   "cell_type": "code",
   "execution_count": 9,
   "metadata": {},
   "outputs": [],
   "source": [
    "import os\n",
    "try:\n",
    "    gemini_key = os.environ[\"GEMINI_API\"]\n",
    "except KeyError:\n",
    "    raise EnvironmentError(\n",
    "        \"The environment variable 'GEMINI_API' is not set. Please set it to your API key.\"\n",
    "    )\n",
    "\n",
    "\n",
    "import os\n",
    "os.environ[\"GOOGLE_API_KEY\"] = os.environ.get(\"GEMINI_API\", \"\")\n",
    "\n",
    "\n",
    "embeddings = GoogleGenerativeAIEmbeddings(\n",
    "    model=\"models/gemini-embedding-001\", \n",
    "    api_key=gemini_key,\n",
    "    credentials= None\n",
    ")\n",
    "vectorstore = Chroma.from_documents(\n",
    "    documents=splits,\n",
    "    embedding=embeddings\n",
    ")"
   ]
  },
  {
   "cell_type": "code",
   "execution_count": 10,
   "metadata": {},
   "outputs": [],
   "source": [
    "retriever = vectorstore.as_retriever()"
   ]
  },
  {
   "cell_type": "code",
   "execution_count": 11,
   "metadata": {},
   "outputs": [
    {
     "name": "stdout",
     "output_type": "stream",
     "text": [
      "input_variables=['context', 'question'] input_types={} partial_variables={} metadata={'lc_hub_owner': 'rlm', 'lc_hub_repo': 'rag-prompt', 'lc_hub_commit_hash': '50442af133e61576e74536c6556cefe1fac147cad032f4377b60c436e6cdcb6e'} messages=[HumanMessagePromptTemplate(prompt=PromptTemplate(input_variables=['context', 'question'], input_types={}, partial_variables={}, template=\"You are an assistant for question-answering tasks. Use the following pieces of retrieved context to answer the question. If you don't know the answer, just say that you don't know. Use three sentences maximum and keep the answer concise.\\nQuestion: {question} \\nContext: {context} \\nAnswer:\"), additional_kwargs={})]\n"
     ]
    }
   ],
   "source": [
    "from langsmith import Client\n",
    "client = Client()  # reads LANGCHAIN_API_KEY/LANGCHAIN_USERNAME from env if needed\n",
    "prompt = client.pull_prompt(\"rlm/rag-prompt\")\n",
    "print(prompt)\n"
   ]
  },
  {
   "cell_type": "code",
   "execution_count": 12,
   "metadata": {},
   "outputs": [],
   "source": [
    "llm = GoogleGenerativeAI(\n",
    "    model=\"gemini-2.5-flash-lite\"\n",
    ")\n"
   ]
  },
  {
   "cell_type": "code",
   "execution_count": 13,
   "metadata": {},
   "outputs": [],
   "source": [
    "def format_docs(docs):\n",
    "    return \"\\n\\n\".join(doc.page_content for doc in docs)"
   ]
  },
  {
   "cell_type": "code",
   "execution_count": 14,
   "metadata": {},
   "outputs": [],
   "source": [
    "rag_chain = (\n",
    "    {\"context\": retriever | format_docs, \"question\": RunnablePassthrough()}\n",
    "    | prompt\n",
    "    | llm\n",
    "    | StrOutputParser()\n",
    ")"
   ]
  },
  {
   "cell_type": "code",
   "execution_count": 15,
   "metadata": {},
   "outputs": [
    {
     "data": {
      "text/plain": [
       "\"Git is a free and open-source distributed version control system used for managing changes locally on your computer. It's essential for tracking revisions and synchronizing repositories, especially with platforms like GitHub. The provided context is a Git cheat sheet featuring commonly used commands.\""
      ]
     },
     "execution_count": 15,
     "metadata": {},
     "output_type": "execute_result"
    }
   ],
   "source": [
    "rag_chain.invoke(\"what is git - why is it used - what docs  used\")"
   ]
  },
  {
   "cell_type": "markdown",
   "metadata": {},
   "source": [
    "Part - 2 - INDEXING"
   ]
  },
  {
   "cell_type": "code",
   "execution_count": 16,
   "metadata": {},
   "outputs": [],
   "source": [
    "question = \"what kind of git commands are available here ?\"\n",
    "document = \"git is a nice framework for version control\""
   ]
  },
  {
   "cell_type": "code",
   "execution_count": 24,
   "metadata": {},
   "outputs": [],
   "source": [
    "def num_tokens_from_string(string: str, encoding_name: str) -> int:\n",
    "    \"\"\"return the number of tokens in a text string\"\"\"\n",
    "\n",
    "    encoding = embeddings.embed_query(encoding_name)\n",
    "    num_tokens = len(encoding.encode(string))\n",
    "    return num_tokens"
   ]
  },
  {
   "cell_type": "code",
   "execution_count": 21,
   "metadata": {},
   "outputs": [
    {
     "data": {
      "text/plain": [
       "3072"
      ]
     },
     "execution_count": 21,
     "metadata": {},
     "output_type": "execute_result"
    }
   ],
   "source": [
    "query_res = embeddings.embed_query(question)\n",
    "docu_res = embeddings.embed_query(document)\n",
    "len(query_res)"
   ]
  },
  {
   "cell_type": "code",
   "execution_count": 19,
   "metadata": {},
   "outputs": [],
   "source": [
    "import numpy as np\n",
    "\n",
    "def cosine_similarity(vec1, vec2):\n",
    "    dot_product = np.dot(vec1, vec2)\n",
    "    norm_vec = np.linalg.norm(vec1)\n",
    "    norm_vec2 = np.linalg.norm(vec2)\n",
    "    return dot_product / (norm_vec * norm_vec2)"
   ]
  },
  {
   "cell_type": "code",
   "execution_count": 22,
   "metadata": {},
   "outputs": [
    {
     "name": "stdout",
     "output_type": "stream",
     "text": [
      "cosine similarity 0.8772521279888006\n"
     ]
    }
   ],
   "source": [
    "similarity = cosine_similarity(query_res, docu_res)\n",
    "print(f\"cosine similarity {similarity}\")"
   ]
  },
  {
   "cell_type": "markdown",
   "metadata": {},
   "source": [
    "cosine similarity works in a way that 1 indicates completely identical and 0 means no similarity exists between the two embeddings"
   ]
  },
  {
   "cell_type": "markdown",
   "metadata": {},
   "source": [
    "indexing\n",
    "\n",
    "same code as importing a document - making chunks / embeddings and adding that to vectordb\n",
    "\n",
    "###  Part - 3 - Retrieval"
   ]
  },
  {
   "cell_type": "markdown",
   "metadata": {},
   "source": [
    "use your already made vectorstore and the associated as_retriever exposed method"
   ]
  },
  {
   "cell_type": "code",
   "execution_count": 27,
   "metadata": {},
   "outputs": [],
   "source": [
    "retriever = vectorstore.as_retriever(search_kwargs = {\"k\":1})"
   ]
  },
  {
   "cell_type": "markdown",
   "metadata": {},
   "source": [
    "search_kwargs and k = 1 returns the top embedding = if set to 5 - this will return you with 5 top embeddings"
   ]
  },
  {
   "cell_type": "code",
   "execution_count": 32,
   "metadata": {},
   "outputs": [
    {
     "name": "stdout",
     "output_type": "stream",
     "text": [
      "[Document(id='586c1b69-d929-4a5a-a1f2-98c5ba85ae6b', metadata={'producer': 'Mac OS X 10.9.1 Quartz PDFContext', 'moddate': \"D:20140224195805Z00'00'\", 'creationdate': \"D:20140224195805Z00'00'\", 'total_pages': 2, 'creator': 'Adobe Illustrator CC (Macintosh)', 'page': 0, 'title': 'git-cheat-sheet-education', 'page_label': '1', 'source': 'https://education.github.com/git-cheat-sheet-education.pdf'}, page_content='GIT CHEAT SHEET\\nSTAGE & SNAPSHOT\\nWorking with snapshots and the Git staging area\\ngit status\\nshow modiﬁed ﬁles in working directory, staged for your next commit\\ngit add [file]\\nadd a ﬁle as it looks now to your next commit (stage)\\ngit reset [file]\\nunstage a ﬁle while retaining the changes in working directory\\ngit diff\\ndiﬀ of what is changed but not staged\\ngit diff --staged\\ndiﬀ of what is staged but not yet committed\\ngit commit -m “[descriptive message]”\\ncommit your staged content as a new commit snapshot\\nSETUP\\nConﬁguring user information used across all local repositories\\ngit config --global user.name “[firstname lastname]”\\nset a name that is identiﬁable for credit when review version history\\ngit config --global user.email “[valid-email]”\\nset an email address that will be associated with each history marker\\ngit config --global color.ui auto\\nset automatic command line coloring for Git for easy reviewing\\nSETUP & INIT\\nConﬁguring user information, initializing and cloning repositories')]\n"
     ]
    }
   ],
   "source": [
    "docs = retriever.invoke(\"what is git ?\")\n",
    "print(docs)"
   ]
  },
  {
   "cell_type": "markdown",
   "metadata": {},
   "source": [
    "### Part - 4 Generation"
   ]
  },
  {
   "cell_type": "code",
   "execution_count": 37,
   "metadata": {},
   "outputs": [],
   "source": [
    "from langchain_core.prompts import ChatPromptTemplate"
   ]
  },
  {
   "cell_type": "code",
   "execution_count": 39,
   "metadata": {},
   "outputs": [],
   "source": [
    "template = \"\"\"answer this question based on the following context :\n",
    "            {context}\n",
    "            \n",
    "            Question : {question}\"\"\""
   ]
  },
  {
   "cell_type": "code",
   "execution_count": 40,
   "metadata": {},
   "outputs": [
    {
     "data": {
      "text/plain": [
       "ChatPromptTemplate(input_variables=['context', 'question'], input_types={}, partial_variables={}, messages=[HumanMessagePromptTemplate(prompt=PromptTemplate(input_variables=['context', 'question'], input_types={}, partial_variables={}, template='answer this question based on the following context :\\n            {context}\\n            \\n            Question : {question}'), additional_kwargs={})])"
      ]
     },
     "execution_count": 40,
     "metadata": {},
     "output_type": "execute_result"
    }
   ],
   "source": [
    "prompt = ChatPromptTemplate.from_template(template)\n",
    "prompt"
   ]
  },
  {
   "cell_type": "code",
   "execution_count": 41,
   "metadata": {},
   "outputs": [
    {
     "data": {
      "text/plain": [
       "GoogleGenerativeAI(model='models/gemini-2.5-flash-lite', google_api_key=SecretStr('**********'), client=ChatGoogleGenerativeAI(model='models/gemini-2.5-flash-lite', google_api_key=SecretStr('**********'), client=<google.ai.generativelanguage_v1beta.services.generative_service.client.GenerativeServiceClient object at 0x00000276301D2A10>, default_metadata=(), model_kwargs={}))"
      ]
     },
     "execution_count": 41,
     "metadata": {},
     "output_type": "execute_result"
    }
   ],
   "source": [
    "llm "
   ]
  },
  {
   "cell_type": "code",
   "execution_count": 43,
   "metadata": {},
   "outputs": [],
   "source": [
    "chain = prompt |llm"
   ]
  },
  {
   "cell_type": "code",
   "execution_count": 48,
   "metadata": {},
   "outputs": [
    {
     "data": {
      "text/plain": [
       "'To stage a file in Git, you use the command: `git add [file]`. This command adds the file as it looks at that moment to your next commit, also known as staging.'"
      ]
     },
     "execution_count": 48,
     "metadata": {},
     "output_type": "execute_result"
    }
   ],
   "source": [
    "chain.invoke({\"context\":docs,\"question\":\"how to stage git?\"})"
   ]
  },
  {
   "cell_type": "code",
   "execution_count": 49,
   "metadata": {},
   "outputs": [],
   "source": [
    "from langsmith import Client\n",
    "\n",
    "client = Client()\n",
    "\n",
    "prompt = client.pull_prompt(\"rlm/rag-prompt\")"
   ]
  },
  {
   "cell_type": "code",
   "execution_count": 50,
   "metadata": {},
   "outputs": [
    {
     "data": {
      "text/plain": [
       "ChatPromptTemplate(input_variables=['context', 'question'], input_types={}, partial_variables={}, metadata={'lc_hub_owner': 'rlm', 'lc_hub_repo': 'rag-prompt', 'lc_hub_commit_hash': '50442af133e61576e74536c6556cefe1fac147cad032f4377b60c436e6cdcb6e'}, messages=[HumanMessagePromptTemplate(prompt=PromptTemplate(input_variables=['context', 'question'], input_types={}, partial_variables={}, template=\"You are an assistant for question-answering tasks. Use the following pieces of retrieved context to answer the question. If you don't know the answer, just say that you don't know. Use three sentences maximum and keep the answer concise.\\nQuestion: {question} \\nContext: {context} \\nAnswer:\"), additional_kwargs={})])"
      ]
     },
     "execution_count": 50,
     "metadata": {},
     "output_type": "execute_result"
    }
   ],
   "source": [
    "prompt"
   ]
  },
  {
   "cell_type": "code",
   "execution_count": 52,
   "metadata": {},
   "outputs": [],
   "source": [
    "rag_chain = (\n",
    "    {\"context\" : retriever | format_docs, \"question\" : RunnablePassthrough()}\n",
    "    | prompt\n",
    "    | llm\n",
    "    | StrOutputParser()\n",
    ")"
   ]
  },
  {
   "cell_type": "code",
   "execution_count": 53,
   "metadata": {},
   "outputs": [
    {
     "data": {
      "text/plain": [
       "\"Git is a version control system that tracks changes locally on your computer. GitHub is a platform that provides a graphical user interface for day-to-day interaction, review, and repository synchronization, building upon Git's functionality. GitHub also offers installers for Windows and Mac to help users stay up-to-date with the command-line tool.\""
      ]
     },
     "execution_count": 53,
     "metadata": {},
     "output_type": "execute_result"
    }
   ],
   "source": [
    "rag_chain.invoke(\"what is github - how is it different from git\")"
   ]
  }
 ],
 "metadata": {
  "kernelspec": {
   "display_name": "Python 3",
   "language": "python",
   "name": "python3"
  },
  "language_info": {
   "codemirror_mode": {
    "name": "ipython",
    "version": 3
   },
   "file_extension": ".py",
   "mimetype": "text/x-python",
   "name": "python",
   "nbconvert_exporter": "python",
   "pygments_lexer": "ipython3",
   "version": "3.10.0"
  }
 },
 "nbformat": 4,
 "nbformat_minor": 2
}
